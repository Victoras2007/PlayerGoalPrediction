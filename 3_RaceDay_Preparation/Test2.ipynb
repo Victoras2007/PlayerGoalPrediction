{
  "cells": [
    {
      "cell_type": "markdown",
      "metadata": {
        "id": "view-in-github",
        "colab_type": "text"
      },
      "source": [
        "<a href=\"https://colab.research.google.com/github/Victoras2007/PlayerGoalPrediction/blob/main/Test2.ipynb\" target=\"_parent\"><img src=\"https://colab.research.google.com/assets/colab-badge.svg\" alt=\"Open In Colab\"/></a>"
      ]
    },
    {
      "cell_type": "code",
      "execution_count": null,
      "metadata": {
        "id": "IOo3i3pmkLPG"
      },
      "outputs": [],
      "source": [
        "import numpy as np\n",
        "import pandas as pd\n",
        "import numpy as np\n",
        "import kagglehub\n",
        "import csv\n",
        "import matplotlib.pyplot as plt\n",
        "import seaborn as sns"
      ]
    },
    {
      "cell_type": "code",
      "execution_count": null,
      "metadata": {
        "id": "Cjx2GjaWcu8_",
        "colab": {
          "base_uri": "https://localhost:8080/",
          "height": 321
        },
        "outputId": "9ab227e3-82d7-4729-8484-6cc11729f9f2",
        "collapsed": true
      },
      "outputs": [
        {
          "output_type": "error",
          "ename": "FileNotFoundError",
          "evalue": "[Errno 2] No such file or directory: '/content/database.csv'",
          "traceback": [
            "\u001b[0;31m---------------------------------------------------------------------------\u001b[0m",
            "\u001b[0;31mFileNotFoundError\u001b[0m                         Traceback (most recent call last)",
            "\u001b[0;32m<ipython-input-3-3330f8f29957>\u001b[0m in \u001b[0;36m<cell line: 0>\u001b[0;34m()\u001b[0m\n\u001b[1;32m      1\u001b[0m \u001b[0;31m# uploading dataset for players\u001b[0m\u001b[0;34m\u001b[0m\u001b[0;34m\u001b[0m\u001b[0m\n\u001b[1;32m      2\u001b[0m \u001b[0;34m\u001b[0m\u001b[0m\n\u001b[0;32m----> 3\u001b[0;31m \u001b[0mdf\u001b[0m \u001b[0;34m=\u001b[0m \u001b[0mpd\u001b[0m\u001b[0;34m.\u001b[0m\u001b[0mread_csv\u001b[0m\u001b[0;34m(\u001b[0m\u001b[0;34m'/content/database.csv'\u001b[0m\u001b[0;34m)\u001b[0m\u001b[0;34m\u001b[0m\u001b[0;34m\u001b[0m\u001b[0m\n\u001b[0m",
            "\u001b[0;32m/usr/local/lib/python3.11/dist-packages/pandas/io/parsers/readers.py\u001b[0m in \u001b[0;36mread_csv\u001b[0;34m(filepath_or_buffer, sep, delimiter, header, names, index_col, usecols, dtype, engine, converters, true_values, false_values, skipinitialspace, skiprows, skipfooter, nrows, na_values, keep_default_na, na_filter, verbose, skip_blank_lines, parse_dates, infer_datetime_format, keep_date_col, date_parser, date_format, dayfirst, cache_dates, iterator, chunksize, compression, thousands, decimal, lineterminator, quotechar, quoting, doublequote, escapechar, comment, encoding, encoding_errors, dialect, on_bad_lines, delim_whitespace, low_memory, memory_map, float_precision, storage_options, dtype_backend)\u001b[0m\n\u001b[1;32m   1024\u001b[0m     \u001b[0mkwds\u001b[0m\u001b[0;34m.\u001b[0m\u001b[0mupdate\u001b[0m\u001b[0;34m(\u001b[0m\u001b[0mkwds_defaults\u001b[0m\u001b[0;34m)\u001b[0m\u001b[0;34m\u001b[0m\u001b[0;34m\u001b[0m\u001b[0m\n\u001b[1;32m   1025\u001b[0m \u001b[0;34m\u001b[0m\u001b[0m\n\u001b[0;32m-> 1026\u001b[0;31m     \u001b[0;32mreturn\u001b[0m \u001b[0m_read\u001b[0m\u001b[0;34m(\u001b[0m\u001b[0mfilepath_or_buffer\u001b[0m\u001b[0;34m,\u001b[0m \u001b[0mkwds\u001b[0m\u001b[0;34m)\u001b[0m\u001b[0;34m\u001b[0m\u001b[0;34m\u001b[0m\u001b[0m\n\u001b[0m\u001b[1;32m   1027\u001b[0m \u001b[0;34m\u001b[0m\u001b[0m\n\u001b[1;32m   1028\u001b[0m \u001b[0;34m\u001b[0m\u001b[0m\n",
            "\u001b[0;32m/usr/local/lib/python3.11/dist-packages/pandas/io/parsers/readers.py\u001b[0m in \u001b[0;36m_read\u001b[0;34m(filepath_or_buffer, kwds)\u001b[0m\n\u001b[1;32m    618\u001b[0m \u001b[0;34m\u001b[0m\u001b[0m\n\u001b[1;32m    619\u001b[0m     \u001b[0;31m# Create the parser.\u001b[0m\u001b[0;34m\u001b[0m\u001b[0;34m\u001b[0m\u001b[0m\n\u001b[0;32m--> 620\u001b[0;31m     \u001b[0mparser\u001b[0m \u001b[0;34m=\u001b[0m \u001b[0mTextFileReader\u001b[0m\u001b[0;34m(\u001b[0m\u001b[0mfilepath_or_buffer\u001b[0m\u001b[0;34m,\u001b[0m \u001b[0;34m**\u001b[0m\u001b[0mkwds\u001b[0m\u001b[0;34m)\u001b[0m\u001b[0;34m\u001b[0m\u001b[0;34m\u001b[0m\u001b[0m\n\u001b[0m\u001b[1;32m    621\u001b[0m \u001b[0;34m\u001b[0m\u001b[0m\n\u001b[1;32m    622\u001b[0m     \u001b[0;32mif\u001b[0m \u001b[0mchunksize\u001b[0m \u001b[0;32mor\u001b[0m \u001b[0miterator\u001b[0m\u001b[0;34m:\u001b[0m\u001b[0;34m\u001b[0m\u001b[0;34m\u001b[0m\u001b[0m\n",
            "\u001b[0;32m/usr/local/lib/python3.11/dist-packages/pandas/io/parsers/readers.py\u001b[0m in \u001b[0;36m__init__\u001b[0;34m(self, f, engine, **kwds)\u001b[0m\n\u001b[1;32m   1618\u001b[0m \u001b[0;34m\u001b[0m\u001b[0m\n\u001b[1;32m   1619\u001b[0m         \u001b[0mself\u001b[0m\u001b[0;34m.\u001b[0m\u001b[0mhandles\u001b[0m\u001b[0;34m:\u001b[0m \u001b[0mIOHandles\u001b[0m \u001b[0;34m|\u001b[0m \u001b[0;32mNone\u001b[0m \u001b[0;34m=\u001b[0m \u001b[0;32mNone\u001b[0m\u001b[0;34m\u001b[0m\u001b[0;34m\u001b[0m\u001b[0m\n\u001b[0;32m-> 1620\u001b[0;31m         \u001b[0mself\u001b[0m\u001b[0;34m.\u001b[0m\u001b[0m_engine\u001b[0m \u001b[0;34m=\u001b[0m \u001b[0mself\u001b[0m\u001b[0;34m.\u001b[0m\u001b[0m_make_engine\u001b[0m\u001b[0;34m(\u001b[0m\u001b[0mf\u001b[0m\u001b[0;34m,\u001b[0m \u001b[0mself\u001b[0m\u001b[0;34m.\u001b[0m\u001b[0mengine\u001b[0m\u001b[0;34m)\u001b[0m\u001b[0;34m\u001b[0m\u001b[0;34m\u001b[0m\u001b[0m\n\u001b[0m\u001b[1;32m   1621\u001b[0m \u001b[0;34m\u001b[0m\u001b[0m\n\u001b[1;32m   1622\u001b[0m     \u001b[0;32mdef\u001b[0m \u001b[0mclose\u001b[0m\u001b[0;34m(\u001b[0m\u001b[0mself\u001b[0m\u001b[0;34m)\u001b[0m \u001b[0;34m->\u001b[0m \u001b[0;32mNone\u001b[0m\u001b[0;34m:\u001b[0m\u001b[0;34m\u001b[0m\u001b[0;34m\u001b[0m\u001b[0m\n",
            "\u001b[0;32m/usr/local/lib/python3.11/dist-packages/pandas/io/parsers/readers.py\u001b[0m in \u001b[0;36m_make_engine\u001b[0;34m(self, f, engine)\u001b[0m\n\u001b[1;32m   1878\u001b[0m                 \u001b[0;32mif\u001b[0m \u001b[0;34m\"b\"\u001b[0m \u001b[0;32mnot\u001b[0m \u001b[0;32min\u001b[0m \u001b[0mmode\u001b[0m\u001b[0;34m:\u001b[0m\u001b[0;34m\u001b[0m\u001b[0;34m\u001b[0m\u001b[0m\n\u001b[1;32m   1879\u001b[0m                     \u001b[0mmode\u001b[0m \u001b[0;34m+=\u001b[0m \u001b[0;34m\"b\"\u001b[0m\u001b[0;34m\u001b[0m\u001b[0;34m\u001b[0m\u001b[0m\n\u001b[0;32m-> 1880\u001b[0;31m             self.handles = get_handle(\n\u001b[0m\u001b[1;32m   1881\u001b[0m                 \u001b[0mf\u001b[0m\u001b[0;34m,\u001b[0m\u001b[0;34m\u001b[0m\u001b[0;34m\u001b[0m\u001b[0m\n\u001b[1;32m   1882\u001b[0m                 \u001b[0mmode\u001b[0m\u001b[0;34m,\u001b[0m\u001b[0;34m\u001b[0m\u001b[0;34m\u001b[0m\u001b[0m\n",
            "\u001b[0;32m/usr/local/lib/python3.11/dist-packages/pandas/io/common.py\u001b[0m in \u001b[0;36mget_handle\u001b[0;34m(path_or_buf, mode, encoding, compression, memory_map, is_text, errors, storage_options)\u001b[0m\n\u001b[1;32m    871\u001b[0m         \u001b[0;32mif\u001b[0m \u001b[0mioargs\u001b[0m\u001b[0;34m.\u001b[0m\u001b[0mencoding\u001b[0m \u001b[0;32mand\u001b[0m \u001b[0;34m\"b\"\u001b[0m \u001b[0;32mnot\u001b[0m \u001b[0;32min\u001b[0m \u001b[0mioargs\u001b[0m\u001b[0;34m.\u001b[0m\u001b[0mmode\u001b[0m\u001b[0;34m:\u001b[0m\u001b[0;34m\u001b[0m\u001b[0;34m\u001b[0m\u001b[0m\n\u001b[1;32m    872\u001b[0m             \u001b[0;31m# Encoding\u001b[0m\u001b[0;34m\u001b[0m\u001b[0;34m\u001b[0m\u001b[0m\n\u001b[0;32m--> 873\u001b[0;31m             handle = open(\n\u001b[0m\u001b[1;32m    874\u001b[0m                 \u001b[0mhandle\u001b[0m\u001b[0;34m,\u001b[0m\u001b[0;34m\u001b[0m\u001b[0;34m\u001b[0m\u001b[0m\n\u001b[1;32m    875\u001b[0m                 \u001b[0mioargs\u001b[0m\u001b[0;34m.\u001b[0m\u001b[0mmode\u001b[0m\u001b[0;34m,\u001b[0m\u001b[0;34m\u001b[0m\u001b[0;34m\u001b[0m\u001b[0m\n",
            "\u001b[0;31mFileNotFoundError\u001b[0m: [Errno 2] No such file or directory: '/content/database.csv'"
          ]
        }
      ],
      "source": [
        "# uploading dataset for players\n",
        "\n",
        "df = pd.read_csv('/content/database.csv')"
      ]
    },
    {
      "cell_type": "code",
      "source": [
        "# uploding dataset for goalkeepers\n",
        "\n",
        "dfg = pd.read_csv('/content/book3.csv')"
      ],
      "metadata": {
        "id": "JiGNAb_2M2o1"
      },
      "execution_count": null,
      "outputs": []
    },
    {
      "cell_type": "code",
      "execution_count": null,
      "metadata": {
        "collapsed": true,
        "id": "ExAxAVXazr84"
      },
      "outputs": [],
      "source": [
        "df"
      ]
    },
    {
      "cell_type": "code",
      "source": [
        "dfg"
      ],
      "metadata": {
        "id": "sm0jg3M1PvH4",
        "collapsed": true
      },
      "execution_count": null,
      "outputs": []
    },
    {
      "cell_type": "code",
      "execution_count": null,
      "metadata": {
        "id": "JaZx57oLcWmZ"
      },
      "outputs": [],
      "source": [
        "# dropping columns not needed for our program\n",
        "\n",
        "df.drop(columns=['#','Age','Date','Assists','Non-Penalty xG (npxG)' , 'Penalty Shoot','Yellow Cards', 'Red Cards', 'Touches', 'Dribbles', 'Tackles', 'Blocks', 'Expected Assists (xAG)', 'Shot-Creating Actions', 'Passes Completed', 'Passes Attempted', 'Pass Completion %', 'Progressive Passes', 'Carries', 'Progressive Carries', 'Dribble Attempts', 'Goal-Creating Actions','Successful Dribbles'], inplace=True)"
      ]
    },
    {
      "cell_type": "code",
      "execution_count": null,
      "metadata": {
        "id": "kDrIXlV_3CJk",
        "collapsed": true
      },
      "outputs": [],
      "source": [
        "df.isnull().sum()   # no missing values in df"
      ]
    },
    {
      "cell_type": "code",
      "source": [
        "dfg.isnull().sum()  # cheking for missing values"
      ],
      "metadata": {
        "collapsed": true,
        "id": "aq0BFtDeWnWo"
      },
      "execution_count": null,
      "outputs": []
    },
    {
      "cell_type": "code",
      "source": [
        "dfg.isnull().sum() / len(df) * 100  # checking percentage of missing values"
      ],
      "metadata": {
        "collapsed": true,
        "id": "3chwXRTlX40W"
      },
      "execution_count": null,
      "outputs": []
    },
    {
      "cell_type": "code",
      "source": [
        "# since 35% of the data in the last row is missing we will drop it\n",
        "dfg.dropna(axis='columns')"
      ],
      "metadata": {
        "collapsed": true,
        "id": "DF4EBgqGYA-w"
      },
      "execution_count": null,
      "outputs": []
    },
    {
      "cell_type": "code",
      "source": [
        "# view the new dataframe\n",
        "\n",
        "df"
      ],
      "metadata": {
        "collapsed": true,
        "id": "_uWPueYDRCli"
      },
      "execution_count": null,
      "outputs": []
    },
    {
      "cell_type": "code",
      "source": [
        "# view the new dataframe\n",
        "\n",
        "dfg"
      ],
      "metadata": {
        "id": "O3BIKEdLZ6BY",
        "collapsed": true
      },
      "execution_count": null,
      "outputs": []
    },
    {
      "cell_type": "code",
      "source": [
        "# visualising data using histograms for both DataFrames"
      ],
      "metadata": {
        "id": "TrCuPqO3LaRp"
      },
      "execution_count": null,
      "outputs": []
    },
    {
      "cell_type": "code",
      "execution_count": null,
      "metadata": {
        "id": "uVOrv4V05EmB",
        "collapsed": true
      },
      "outputs": [],
      "source": [
        "plt.figure(figsize=(100,100))\n",
        "sns.histplot(x=df['Minutes'], bins=40, kde=True)\n",
        "plt.xticks(fontsize=70)\n",
        "plt.yticks(fontsize=70)\n",
        "plt.title('Average Minutes Played by each Player', fontsize=120)\n",
        "plt.xlabel('Minutes Played per 90mins', fontsize=80)\n",
        "plt.ylabel('Frequency', fontsize=80)\n",
        "plt.grid()\n",
        "plt.show()"
      ]
    },
    {
      "cell_type": "code",
      "execution_count": null,
      "metadata": {
        "id": "d-ylHkzC9cM1",
        "collapsed": true
      },
      "outputs": [],
      "source": [
        "plt.figure(figsize=(100,100))\n",
        "sns.histplot(x=df['Penalty Shoot on Goal'], bins=40, kde=True)\n",
        "plt.xticks(fontsize=70)\n",
        "plt.yticks(fontsize=70)\n",
        "plt.title('Average Penalty Shoots on Goal by each Player', fontsize=120)\n",
        "plt.xlabel('Penalty Shoot on Goal per Match', fontsize=80)\n",
        "plt.ylabel('Frequency', fontsize=80)\n",
        "plt.grid()\n",
        "plt.show()"
      ]
    },
    {
      "cell_type": "code",
      "execution_count": null,
      "metadata": {
        "id": "Ut24cgKZ9s99",
        "collapsed": true
      },
      "outputs": [],
      "source": [
        "plt.figure(figsize=(100,100))\n",
        "sns.histplot(x=df['Total Shoot'], bins=40, kde=True)\n",
        "plt.xticks(fontsize=70)\n",
        "plt.yticks(fontsize=70)\n",
        "plt.title('Average Total Shoots by each Player', fontsize=120)\n",
        "plt.xlabel('Total Shoots per Match', fontsize=80)\n",
        "plt.ylabel('Frequuency', fontsize=80)\n",
        "plt.grid()\n",
        "plt.show()"
      ]
    },
    {
      "cell_type": "code",
      "execution_count": null,
      "metadata": {
        "id": "QeAr_2BF-Cvo",
        "collapsed": true
      },
      "outputs": [],
      "source": [
        "plt.figure(figsize=(100,100))\n",
        "sns.histplot(x=df['Shoot on Target'], bins=40, kde=True)\n",
        "plt.xticks(fontsize=70)\n",
        "plt.yticks(fontsize=70)\n",
        "plt.title('Average Shoots on Target by each Player', fontsize=120)\n",
        "plt.xlabel('Total Shoot on Target per Match', fontsize=80)\n",
        "plt.ylabel('Frequency', fontsize=80)\n",
        "plt.grid()\n",
        "plt.show()"
      ]
    },
    {
      "cell_type": "code",
      "execution_count": null,
      "metadata": {
        "id": "XXqOHTMA-YJY",
        "collapsed": true
      },
      "outputs": [],
      "source": [
        "plt.figure(figsize=(100,100))\n",
        "sns.histplot(x=df['Expected Goals (xG)'], bins=40, kde=True)\n",
        "plt.xticks(fontsize=70)\n",
        "plt.yticks(fontsize=70)\n",
        "plt.title('Expected Goals by each Player', fontsize=120)\n",
        "plt.xlabel('Expected Goals (xG) per Match', fontsize=80)\n",
        "plt.ylabel('Frequency', fontsize=80)\n",
        "plt.grid()\n",
        "plt.show()"
      ]
    },
    {
      "cell_type": "code",
      "source": [
        "plt.figure(figsize=(100,100))\n",
        "sns.histplot(x=dfg['GA'], bins=40, kde=True)\n",
        "plt.xticks(fontsize=70)\n",
        "plt.yticks(fontsize=70)\n",
        "plt.title('Goals Scored Against Each Goalkeeper', fontsize=120)\n",
        "plt.xlabel('Number of Goals Against', fontsize=80)\n",
        "plt.ylabel('Frequency', fontsize=80)\n",
        "plt.grid()\n",
        "plt.show()"
      ],
      "metadata": {
        "collapsed": true,
        "id": "uOnY0SPKaIa_"
      },
      "execution_count": null,
      "outputs": []
    },
    {
      "cell_type": "code",
      "source": [
        "plt.figure(figsize=(100,100))\n",
        "sns.histplot(x=dfg['Saves'], bins=40, kde=True)\n",
        "plt.xticks(fontsize=70)\n",
        "plt.yticks(fontsize=70)\n",
        "plt.title('Goalkeeper Saves', fontsize=120)\n",
        "plt.xlabel('Number of Goalkeeper Saves', fontsize=80)\n",
        "plt.ylabel('Frequency', fontsize=80)\n",
        "plt.grid()\n",
        "plt.show()"
      ],
      "metadata": {
        "id": "vFeZfIGQajty",
        "collapsed": true
      },
      "execution_count": null,
      "outputs": []
    },
    {
      "cell_type": "code",
      "source": [
        "plt.figure(figsize=(100,100))\n",
        "sns.histplot(x=dfg['Save%'], bins=40, kde=True)\n",
        "plt.xticks(fontsize=70)\n",
        "plt.yticks(fontsize=70)\n",
        "plt.title('Goalkeeper Saves Percentage', fontsize=120)\n",
        "plt.xlabel('Percentage of Goalkeeper Saves', fontsize=80)\n",
        "plt.ylabel('Frequency', fontsize=80)\n",
        "plt.grid()\n",
        "plt.show()"
      ],
      "metadata": {
        "id": "fCa9mDs6bHnf",
        "collapsed": true
      },
      "execution_count": null,
      "outputs": []
    },
    {
      "cell_type": "code",
      "source": [
        "plt.figure(figsize=(100,100))\n",
        "sns.histplot(x=dfg['PKsv'], bins=40, kde=True)\n",
        "plt.xticks(fontsize=70)\n",
        "plt.yticks(fontsize=70)\n",
        "plt.title('Penalty Kicks Saved', fontsize=120)\n",
        "plt.xlabel('Number of Penalty Kicks Saved', fontsize=80)\n",
        "plt.ylabel('Frequency', fontsize=80)\n",
        "plt.grid()\n",
        "plt.show()"
      ],
      "metadata": {
        "id": "JQh6QVuXbdF9",
        "collapsed": true
      },
      "execution_count": null,
      "outputs": []
    },
    {
      "cell_type": "code",
      "source": [
        "plt.figure(figsize=(100,100))\n",
        "sns.histplot(x=dfg['PKsv%'], bins=40, kde=True)\n",
        "plt.xticks(fontsize=70)\n",
        "plt.yticks(fontsize=70)\n",
        "plt.title('Penalty Kicks Saved Percentage', fontsize=120)\n",
        "plt.xlabel('Percentage of Penalty Kicks Saved', fontsize=80)\n",
        "plt.ylabel('Frequency', fontsize=80)\n",
        "plt.grid()\n",
        "plt.show()"
      ],
      "metadata": {
        "id": "2E2vHJoibt8g",
        "collapsed": true
      },
      "execution_count": null,
      "outputs": []
    },
    {
      "cell_type": "code",
      "source": [
        "df_new = df.drop(columns=['Player', 'Team', 'Nation', 'Position'])"
      ],
      "metadata": {
        "id": "BiuPyt8H2sSh"
      },
      "execution_count": null,
      "outputs": []
    },
    {
      "cell_type": "code",
      "source": [
        "plt.figure(figsize=(100,100))\n",
        "corr_matrix = df_new.corr()\n",
        "sns.heatmap(corr_matrix, annot=True, cmap=\"coolwarm\", fmt=\".2f\", linewidths=0.5)"
      ],
      "metadata": {
        "id": "xcQ_6T8My00O"
      },
      "execution_count": null,
      "outputs": []
    }
  ],
  "metadata": {
    "colab": {
      "provenance": [],
      "include_colab_link": true
    },
    "kernelspec": {
      "display_name": "Python 3",
      "name": "python3"
    },
    "language_info": {
      "name": "python"
    }
  },
  "nbformat": 4,
  "nbformat_minor": 0
}
